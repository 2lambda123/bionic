{
 "cells": [
  {
   "cell_type": "markdown",
   "metadata": {},
   "source": [
    "# Hello World"
   ]
  },
  {
   "cell_type": "raw",
   "metadata": {
    "raw_mimetype": "text/restructuredtext"
   },
   "source": [
    "Let's start with a very simple example: a workflow that generates the text\n",
    "\"Hello world!\"\n",
    "\n",
    "*(The code for this example is available in the Bionic repo at\n",
    "example/bionic/hello_world.py.)*\n",
    "\n",
    ".. literalinclude:: ../../example/bionic/hello_world.py\n",
    "    :language: python\n",
    "    :linenos:\n",
    "\n",
    "This example does six things:\n",
    "\n",
    "1. Initialize a new ``FlowBuilder``.  We'll use this to define the entities we\n",
    "   care about.  (An entity is like a variable.  It can be defined with a fixed\n",
    "   value, or as a function of other entities.)\n",
    "\n",
    "2. Define a new entity called ``greeting``, with a fixed value of ``\"Hello\"``.\n",
    "\n",
    "3. Define another entity called ``subject``, with a fixed value of ``\"world\"``.\n",
    "\n",
    "4. Define a third entity called ``message``, which is constructed\n",
    "   by taking the values of ``greeting`` and ``subject`` and combining them in\n",
    "   a sentence.  We do this by applying the ``@builder`` decorator to a function;\n",
    "   Bionic automatically infers the name of the new entity (``message``) and the\n",
    "   name of its dependencies (``greeting`` and ``subject``).\n",
    "\n",
    "5. Assemble a ``Flow`` object, which is capable of computing any of the\n",
    "   entities we've defined.\n",
    "\n",
    "6. Use our flow to compute the message ``\"Hello world!\"``\n",
    "\n",
    "We can run this code (assuming we've checked out the ``bionic`` repo) like\n",
    "this:\n",
    "\n",
    ".. code-block:: bash\n",
    "\n",
    "    > cd bionic\n",
    "    > python example/bionic/hello_world.py\n",
    "    Hello world!\n",
    "\n",
    "We can also import it in an interpreter or notebook:"
   ]
  },
  {
   "cell_type": "code",
   "execution_count": null,
   "metadata": {},
   "outputs": [],
   "source": [
    "import _tutorial_setup  # Ignore this.\n",
    "\n",
    "from example.bionic.hello_world import flow\n",
    "flow.get('message')"
   ]
  },
  {
   "cell_type": "markdown",
   "metadata": {},
   "source": [
    "Although our `flow` object is immutable, we can easily make a new copy with a different value of `subject`:"
   ]
  },
  {
   "cell_type": "code",
   "execution_count": null,
   "metadata": {},
   "outputs": [],
   "source": [
    "new_flow = flow.setting('subject', 'universe')\n",
    "new_flow.get('message')"
   ]
  },
  {
   "cell_type": "markdown",
   "metadata": {},
   "source": [
    "We can also try changing the `message` directly:"
   ]
  },
  {
   "cell_type": "code",
   "execution_count": null,
   "metadata": {},
   "outputs": [],
   "source": [
    "flow.setting('message', 'Goodbye world!').get('message')"
   ]
  },
  {
   "cell_type": "markdown",
   "metadata": {},
   "source": [
    "As a convenience, `setting` and `get` can be called by an alternative syntax which makes it easier for your notebook or interpreter to autocomplete entity names:"
   ]
  },
  {
   "cell_type": "code",
   "execution_count": null,
   "metadata": {},
   "outputs": [],
   "source": [
    "flow.setting.subject('universe').get.message()"
   ]
  },
  {
   "cell_type": "markdown",
   "metadata": {},
   "source": [
    "Finally, we can visualize our flow as a directed acyclic graph:"
   ]
  },
  {
   "cell_type": "code",
   "execution_count": null,
   "metadata": {},
   "outputs": [],
   "source": [
    "flow.render_dag()"
   ]
  },
  {
   "cell_type": "markdown",
   "metadata": {},
   "source": [
    "This flow doesn't do much, but it illustrates how flows can be constructed, shared, and modified.\n",
    "The next tutorial will demonstrate a more practical example."
   ]
  }
 ],
 "metadata": {
  "kernelspec": {
   "display_name": "Python 3",
   "language": "python",
   "name": "python3"
  },
  "language_info": {
   "codemirror_mode": {
    "name": "ipython",
    "version": 3
   },
   "file_extension": ".py",
   "mimetype": "text/x-python",
   "name": "python",
   "nbconvert_exporter": "python",
   "pygments_lexer": "ipython3",
   "version": "3.7.3"
  }
 },
 "nbformat": 4,
 "nbformat_minor": 2
}
